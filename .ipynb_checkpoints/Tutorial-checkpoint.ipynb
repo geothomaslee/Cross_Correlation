{
 "cells": [
  {
   "cell_type": "markdown",
   "id": "931b2fd0-034d-4c56-845d-88d502930833",
   "metadata": {},
   "source": [
    "# Cross-Correltation of Ambient Seismic Noise\n",
    "#### A tutorial set for learning the basics of the cross-correlation method for ambient seismic noise correlation\n",
    "\n",
    "By Thomas Lee, for personal use and final project for EPS522-03: Computational Methods "
   ]
  },
  {
   "cell_type": "code",
   "execution_count": 1,
   "id": "f7fd0bd1-3504-442f-8e89-442ba62751ee",
   "metadata": {},
   "outputs": [],
   "source": [
    "%load_ext autoreload\n",
    "%autoreload 2"
   ]
  },
  {
   "cell_type": "markdown",
   "id": "980b30e6-3799-4c72-acbe-ebf1670f09b0",
   "metadata": {},
   "source": [
    "##### Correlation Basics\n",
    "\n",
    "Correlation is a simple mathematic operation that measures the similarity of two functions. Generally, the correlation can be found by taking two functions and multiplying together the output for each function that corresponds to a given input. Then, the multiplied pairs are all summed to give a single correlation value for the two functions. The mathematical notation is quite simple but difficult to show in a Jupyter notebook.\n",
    "\n",
    "An extremely simple example is shown below."
   ]
  },
  {
   "cell_type": "code",
   "execution_count": 2,
   "id": "e2102be8-7793-4687-beee-9f2b876049fb",
   "metadata": {},
   "outputs": [],
   "source": [
    "a = [1, 2, 3]\n",
    "b = [3, 5, 2]\n",
    "\n",
    "correlation= a[0]*b[0] + a[1]*b[1] + a[2]*b[2]"
   ]
  },
  {
   "cell_type": "markdown",
   "id": "7ad110fe-d17e-47e0-a1b5-cef3e7df673a",
   "metadata": {},
   "source": [
    "So, in this specific case:"
   ]
  },
  {
   "cell_type": "code",
   "execution_count": 3,
   "id": "f71aeb60-bafa-4471-93ba-16ffe5b5a5e0",
   "metadata": {},
   "outputs": [
    {
     "name": "stdout",
     "output_type": "stream",
     "text": [
      "Correlation of functions a and b: 19\n"
     ]
    }
   ],
   "source": [
    "correlation = (1*3) + (2*5) + (3*2)\n",
    "\n",
    "print(f'Correlation of functions a and b: {correlation}')"
   ]
  },
  {
   "cell_type": "markdown",
   "id": "7600d606-dc98-4975-a809-969d35dc6608",
   "metadata": {},
   "source": [
    "We make several important observations with this basic example. \n",
    "\n",
    "One, we don't even need to know the domain as long as we know that the functions have the same lengths. This means that in a sense, our correlation isn't inherently tied to the absolute values of the domain, just the relative step-size in the domain.\n",
    "\n",
    "Two, correlation is inherently a unitless measurement. It is more useful for relative comparisons than an absolute measurement.\n",
    "\n",
    "Lets's take a look at an example setup below to see what this means in practice."
   ]
  },
  {
   "cell_type": "code",
   "execution_count": 4,
   "id": "81ecabe7-5805-4f15-bab5-d4b4e4dd944e",
   "metadata": {},
   "outputs": [],
   "source": [
    "# Three separate functions, each of the same length\n",
    "a = [1, -2, 4, -8]\n",
    "b = [100, -200, 400, -800]\n",
    "c = [2, -4, 8, -16]"
   ]
  },
  {
   "cell_type": "markdown",
   "id": "8007e5b7-d9d1-497d-9222-68d7d31fd8af",
   "metadata": {},
   "source": [
    "These three functions are all have the exact same shape, but b and c are both scaled versions of a.\n",
    "If our goal is to find a measurement that tells us the similiarity between two functions, we may run into an issue using the basic correlation.\n",
    "Below I import a correlation function contained in this module for easier reading, but it operationally does the exact same thing as the first example."
   ]
  },
  {
   "cell_type": "markdown",
   "id": "7023db73-48c2-4720-94e4-e487e77c2978",
   "metadata": {},
   "source": [
    "from correlation_basics.basic_correlation import correlation\n",
    "\n",
    "correlation_ab = correlation(a, b)\n",
    "print(correlation_ab)\n",
    "correlation_ac = correlation(a, c)\n",
    "print(correlation_ac)"
   ]
  },
  {
   "cell_type": "markdown",
   "id": "9fa1ff9f-fd81-4c07-9c1e-7bedaa8c992e",
   "metadata": {},
   "source": [
    "Even though these functions have the exact same shape, a and b have a much higher correlation due to b's large magnitude. One could argue that a and c are in fact MORE similar due to their more similar magnitudes. To solve this, one may use normalized correlation. It turns out to be not useful for ambient noise correlations as we care about maintaining magnitude differences, but normalized uses a weighted magnitude measurement to bring the value of correlation to between -1 and 1. This means it may give a more accurate sense of how similarly shaped two functions are, and can be used to compare all kinds of different functions regardless of their magnitude. This is shown below."
   ]
  },
  {
   "cell_type": "code",
   "execution_count": 5,
   "id": "d52a2f1e-aa5e-40b3-9a41-4a0003b1478b",
   "metadata": {
    "tags": []
   },
   "outputs": [
    {
     "name": "stdout",
     "output_type": "stream",
     "text": [
      "The autoreload extension is already loaded. To reload it, use:\n",
      "  %reload_ext autoreload\n",
      "1.0\n",
      "1.0\n",
      "0.07866339502806552\n"
     ]
    }
   ],
   "source": [
    "%load_ext autoreload\n",
    "%autoreload 2\n",
    "from correlation_basics.normalized_correlation import normalized_correlation\n",
    "\n",
    "d = [-5, 5, 10, 2]\n",
    "\n",
    "norm_corr_ab = normalized_correlation(a, b)\n",
    "print(norm_corr_ab)\n",
    "norm_corr_ac = normalized_correlation(a, c)\n",
    "print(norm_corr_ac)\n",
    "norm_corr_ad = normalized_correlation(a, d)\n",
    "print(norm_corr_ad)"
   ]
  },
  {
   "cell_type": "markdown",
   "id": "6a906231-5c8e-48b7-96e1-cc77204a5b36",
   "metadata": {},
   "source": [
    "As we can see, the correlations for a and b, and a and c, now both return 1 since they have the same shape. A four random function that does not match in shape, d, is normally correlated with a to show the difference."
   ]
  },
  {
   "cell_type": "markdown",
   "id": "557c02c3-2bf2-4be2-9616-69a4d0fb1fee",
   "metadata": {
    "jupyter": {
     "source_hidden": true
    },
    "tags": []
   },
   "source": [
    "## Cross-correlation: here it gets spicy\n",
    "\n",
    "We've seen that correlation is just a unitless measurement of how similar two functions, or signals in the case of ambient seismic noise, are to one another. Cross-correlation asks the question,\"What if we took the second function, offset it to the left, and then swept it across the top function and measured the correlation of the two offset signals at every point?\"\n",
    "\n",
    "Describing this in words is difficult, so I've implemented an interactive ipywidget below to show the basic setup. For two functions with length L, the second function is domain shifted to the left by an amount L. It could be said that the second function is now at an offset of -L. Then, the correlation is measured. Since these two functions have no overlap, and anything outside their data windows is just taken to be 0, the correlation should be 0. \n",
    "\n",
    "Imagine then moving the second function slightly to the right by an amount Delta. Delta is arbitary, but for real data it usually matches the sampling rate of the instrument. The second function now sits at an offset of -L+Delta. The correlation is then measured again, this time ONE data point should overlap between the two functions and a small correlation value will appear. Imagine repeating this process for every Delta-step until the second function is offset by positive L, by which point the two functions do not overlap and the correlation goes back to 0. We would then be left with a correlation value between the two functions for every step L, which we can interpret as a function with domain -L to L and time steps of Delta. This is a cross-correlation function.\n",
    "\n",
    "### Example Interactive Cross-Correlation\n",
    "\n",
    "The interactive plot below shows two functions and their cross-correlation value, and how we sweep the second function across the first and take the correlation at every point to make a cross-correlation function.\n",
    "\n",
    "Notice that despite our functions needing 300 points to show the full sweep, the cross-correlation function only has 200 points, twice the amount of points in the original functions.\n",
    "\n",
    "Play around with the two functions! Adjust their amplitudes, frequencies, phase shifts, etc."
   ]
  },
  {
   "cell_type": "code",
   "execution_count": 13,
   "id": "95bd0518-ebe3-4358-82ee-9a10f8bec500",
   "metadata": {
    "tags": []
   },
   "outputs": [
    {
     "name": "stdout",
     "output_type": "stream",
     "text": [
      "100\n"
     ]
    },
    {
     "data": {
      "application/vnd.jupyter.widget-view+json": {
       "model_id": "4e03c3edb4714e82b4871f52c5489d02",
       "version_major": 2,
       "version_minor": 0
      },
      "text/plain": [
       "interactive(children=(IntSlider(value=0, description='offset', min=-100), Output()), _dom_classes=('widget-int…"
      ]
     },
     "metadata": {},
     "output_type": "display_data"
    },
    {
     "data": {
      "text/plain": [
       "<function correlation_basics.teaching_cross_correlation.correlate_interactive(a, b, offset)>"
      ]
     },
     "execution_count": 13,
     "metadata": {},
     "output_type": "execute_result"
    }
   ],
   "source": [
    "import correlation_basics.teaching_cross_correlation as tcc\n",
    "import numpy as np\n",
    "from ipywidgets import interact, fixed\n",
    "import ipywidgets as widgets\n",
    "\n",
    "times = np.arange(0, 100, 1)\n",
    "func1 = np.sin(times)\n",
    "func2 = np.cos(times)\n",
    "length = len(func1)\n",
    "print(length)\n",
    "\n",
    "#tcc.offset_view(func1, func2, -50)\n",
    "\n",
    "interact(tcc.correlate_interactive, a=fixed(func1),b=fixed(func2),offset=widgets.IntSlider(min=-length, max=length, step=1, value=0))"
   ]
  },
  {
   "cell_type": "code",
   "execution_count": null,
   "id": "42df6a88-cf00-4a00-83da-b71a7af192bc",
   "metadata": {},
   "outputs": [],
   "source": []
  },
  {
   "cell_type": "code",
   "execution_count": null,
   "id": "8d04e2da-f29d-46a2-b881-a957baa2d5cc",
   "metadata": {},
   "outputs": [],
   "source": []
  }
 ],
 "metadata": {
  "kernelspec": {
   "display_name": "Python 3 (ipykernel)",
   "language": "python",
   "name": "python3"
  },
  "language_info": {
   "codemirror_mode": {
    "name": "ipython",
    "version": 3
   },
   "file_extension": ".py",
   "mimetype": "text/x-python",
   "name": "python",
   "nbconvert_exporter": "python",
   "pygments_lexer": "ipython3",
   "version": "3.11.4"
  }
 },
 "nbformat": 4,
 "nbformat_minor": 5
}
